#gradient_descent of test score
{
 "cells": [
  {
   "cell_type": "code",
   "execution_count": 1,
   "metadata": {},
   "outputs": [],
   "source": [
    "import numpy as np\n",
    "import pandas as pd\n",
    "from sklearn.linear_model import LinearRegression\n",
    "import math"
   ]
  },
  {
   "cell_type": "code",
   "execution_count": 9,
   "metadata": {},
   "outputs": [],
   "source": [
    "def predic_sklearn():\n",
    "    df = pd.read_csv(\"gradient_descent.csv\")\n",
    "    r = LinearRegression()\n",
    "    r.fit(df[['math']],df.cs)\n",
    "    return r.coef_, r.intercept_\n"
   ]
  },
  {
   "cell_type": "code",
   "execution_count": 7,
   "metadata": {},
   "outputs": [],
   "source": [
    "def gradient_descent(x,y):\n",
    "    m_curr=b_curr=0\n",
    "    iterations=1000\n",
    "    n=len(x)\n",
    "    learning_rate=0.0002\n",
    "    cost_prev=0\n",
    "    for i in range(iterations):\n",
    "        y_predicted=m_curr*x+b_curr\n",
    "        md=-(2/n)*sum(x*(y-y_predicted))\n",
    "        bd=-(2/n)*sum(y-y_predicted)\n",
    "        cost = (1/n) * sum([val**2 for val in (y-y_predicted)])\n",
    "        m_curr=m_curr-learning_rate*md\n",
    "        b_curr=b_curr-learning_rate*bd\n",
    "        if math.isclose(cost, cost_prev, rel_tol=1e-20):\n",
    "            break\n",
    "    cost_prev = cost\n",
    "    print (\"m {}, b {}, cost {}, iteration {}\".format(m_curr,b_curr,cost, i))\n",
    "    return b_curr,m_curr\n",
    "    "
   ]
  },
  {
   "cell_type": "code",
   "execution_count": 10,
   "metadata": {},
   "outputs": [
    {
     "name": "stdout",
     "output_type": "stream",
     "text": [
      "m 1.0439449783485493, b 0.057873903254289885, cost 31.80255573746735, iteration 999\n",
      "Using gradient descent function: Coef 0.057873903254289885 Intercept 1.0439449783485493\n",
      "Using sklearn: Coef [1.01773624] Intercept 1.9152193111569318\n"
     ]
    }
   ],
   "source": [
    "if __name__==\"__main__\":\n",
    "    df=pd.read_csv(\"gradient_descent.csv\")\n",
    "    x=np.array(df.math)\n",
    "    y=np.array(df.cs)\n",
    "    m,b=gradient_descent(x,y)\n",
    "    print(\"Using gradient descent function: Coef {} Intercept {}\".format(m, b))\n",
    "\n",
    "    m_sklearn, b_sklearn = predic_sklearn()\n",
    "    print(\"Using sklearn: Coef {} Intercept {}\".format(m_sklearn,b_sklearn))"
   ]
  }
 ],
 "metadata": {
  "kernelspec": {
   "display_name": "base",
   "language": "python",
   "name": "python3"
  },
  "language_info": {
   "codemirror_mode": {
    "name": "ipython",
    "version": 3
   },
   "file_extension": ".py",
   "mimetype": "text/x-python",
   "name": "python",
   "nbconvert_exporter": "python",
   "pygments_lexer": "ipython3",
   "version": "3.9.12"
  },
  "orig_nbformat": 4,
  "vscode": {
   "interpreter": {
    "hash": "56ce91007259aa12f278794bb865b2dbdcb8554fd5793dd655d8f895a6fb3b13"
   }
  }
 },
 "nbformat": 4,
 "nbformat_minor": 2
}
